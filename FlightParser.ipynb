{
 "cells": [
  {
   "cell_type": "code",
   "execution_count": 2,
   "metadata": {
    "collapsed": true
   },
   "outputs": [],
   "source": [
    "import json"
   ]
  },
  {
   "cell_type": "code",
   "execution_count": 3,
   "metadata": {
    "collapsed": true
   },
   "outputs": [],
   "source": [
    "with open('flight.json') as data_file:    \n",
    "    data = json.load(data_file)\n",
    "    "
   ]
  },
  {
   "cell_type": "code",
   "execution_count": 4,
   "metadata": {
    "collapsed": false,
    "scrolled": true
   },
   "outputs": [],
   "source": [
    "ff = data[\"items\"][0]['trips'][\"tripOption\"][0][\"slice\"][0][\"segment\"][0][\"flight\"]"
   ]
  },
  {
   "cell_type": "code",
   "execution_count": 5,
   "metadata": {
    "collapsed": false
   },
   "outputs": [
    {
     "data": {
      "text/plain": [
       "'VX201'"
      ]
     },
     "execution_count": 5,
     "metadata": {},
     "output_type": "execute_result"
    }
   ],
   "source": [
    "str(ff['carrier'])+str(ff['number'])"
   ]
  },
  {
   "cell_type": "code",
   "execution_count": 6,
   "metadata": {
    "collapsed": false
   },
   "outputs": [
    {
     "data": {
      "text/plain": [
       "[{u'aircraft': u'320',\n",
       "  u'arrivalTime': u'2016-12-05T10:50-08:00',\n",
       "  u'departureTime': u'2016-12-05T08:00-06:00',\n",
       "  u'destination': u'SFO',\n",
       "  u'destinationTerminal': u'2',\n",
       "  u'duration': 290,\n",
       "  u'id': u'LLFjiUvWZWY-oFy+',\n",
       "  u'kind': u'qpxexpress#legInfo',\n",
       "  u'mileage': 1841,\n",
       "  u'onTimePerformance': 88,\n",
       "  u'origin': u'ORD',\n",
       "  u'originTerminal': u'3',\n",
       "  u'secure': True}]"
      ]
     },
     "execution_count": 6,
     "metadata": {},
     "output_type": "execute_result"
    }
   ],
   "source": [
    "ll = data[\"items\"][0]['trips'][\"tripOption\"][0][\"slice\"][0][\"segment\"][0][\"leg\"]\n",
    "ll"
   ]
  },
  {
   "cell_type": "code",
   "execution_count": 7,
   "metadata": {
    "collapsed": false
   },
   "outputs": [
    {
     "data": {
      "text/plain": [
       "[(u'VX', u'Virgin America Inc.'),\n",
       " (u'F9', u'Frontier Airlines, Inc.'),\n",
       " (u'NK', u'Spirit Airlines'),\n",
       " (u'UA', u'United Airlines, Inc.')]"
      ]
     },
     "execution_count": 7,
     "metadata": {},
     "output_type": "execute_result"
    }
   ],
   "source": [
    "carrier = dict()\n",
    "for item in data[\"items\"]:\n",
    "    for f in item[\"trips\"][\"data\"]['carrier']:\n",
    "        carrier[f['code']] = f['name']\n",
    "        \n",
    "carrier.items()"
   ]
  },
  {
   "cell_type": "code",
   "execution_count": 12,
   "metadata": {
    "collapsed": false
   },
   "outputs": [],
   "source": [
    "flights = []\n",
    "\n",
    "for item in data[\"items\"]:\n",
    "    for f in item[\"trips\"][\"tripOption\"]:\n",
    "        flight = dict()\n",
    "        flight['id'] = len(flights)\n",
    "        flight['price'] = f['saleTotal'].split('USD')[1]\n",
    "        segment = f[\"slice\"][0][\"segment\"][0]\n",
    "        ff = segment[\"flight\"]\n",
    "        flight['date'] = leg['departureTime'].split(\"T\")[0]\n",
    "        flight['carrier'] = carrier[ff['carrier']]\n",
    "        flight['flightNumber'] =str(ff['carrier'])+str(ff['number'])\n",
    "        leg = segment[\"leg\"][0]\n",
    "        flight['arrivalTime'] = leg[\"arrivalTime\"].split(\"T\")[1].split(\"-\")[0]\n",
    "        flight['departureTime'] = leg['departureTime'].split(\"T\")[1].split(\"-\")[0]\n",
    "        flight['origin'] = leg['origin']\n",
    "        flight['destination'] = leg['destination']\n",
    "        \n",
    "        flights.append(flight)\n",
    "        \n",
    "with open('formatedflight.json','w') as fp:    \n",
    "    json.dump(flights,fp)\n",
    "fp.close()"
   ]
  },
  {
   "cell_type": "code",
   "execution_count": 9,
   "metadata": {
    "collapsed": false
   },
   "outputs": [
    {
     "data": {
      "text/plain": [
       "'55.3'"
      ]
     },
     "execution_count": 9,
     "metadata": {},
     "output_type": "execute_result"
    }
   ],
   "source": [
    "'USD55.3'.split('USD')[1]"
   ]
  },
  {
   "cell_type": "code",
   "execution_count": 11,
   "metadata": {
    "collapsed": false
   },
   "outputs": [
    {
     "data": {
      "text/plain": [
       "'2016-12-05'"
      ]
     },
     "execution_count": 11,
     "metadata": {},
     "output_type": "execute_result"
    }
   ],
   "source": [
    "'2016-12-05T10:50-08:00'.split(\"T\")[0]"
   ]
  },
  {
   "cell_type": "code",
   "execution_count": null,
   "metadata": {
    "collapsed": true
   },
   "outputs": [],
   "source": []
  }
 ],
 "metadata": {
  "kernelspec": {
   "display_name": "Python 2",
   "language": "python",
   "name": "python2"
  },
  "language_info": {
   "codemirror_mode": {
    "name": "ipython",
    "version": 2
   },
   "file_extension": ".py",
   "mimetype": "text/x-python",
   "name": "python",
   "nbconvert_exporter": "python",
   "pygments_lexer": "ipython2",
   "version": "2.7.11"
  }
 },
 "nbformat": 4,
 "nbformat_minor": 0
}
